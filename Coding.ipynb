{
 "cells": [
  {
   "cell_type": "code",
   "execution_count": 168,
   "id": "fa8395f8",
   "metadata": {},
   "outputs": [],
   "source": [
    "from datetime import datetime\n",
    "from collections import Counter\n",
    "import requests\n",
    "import matplotlib.pyplot as plt\n",
    "import matplotlib.dates as mdates\n",
    "import pandas as pd\n",
    "import matplotlib.pyplot as plt\n"
   ]
  },
  {
   "cell_type": "markdown",
   "id": "e8b340cb",
   "metadata": {},
   "source": [
    "# Retrieving the 500 issues"
   ]
  },
  {
   "cell_type": "code",
   "execution_count": 172,
   "id": "a19400a9",
   "metadata": {},
   "outputs": [
    {
     "name": "stdout",
     "output_type": "stream",
     "text": [
      "Number of issues fetched: 500\n"
     ]
    }
   ],
   "source": [
    "url = 'https://api.github.com/search/issues'\n",
    "params = {\n",
    "    'q': 'repo:rails/rails is:issue',\n",
    "    'per_page': 100 \n",
    "}\n",
    "\n",
    "issues = []\n",
    "\n",
    "while len(issues) < 500:\n",
    "    response = requests.get(url, params=params)\n",
    "    response.raise_for_status()\n",
    "    issues.extend(response.json()['items'])\n",
    "    params['page'] = params.get('page', 1) + 1\n",
    "    if response.links.get('next') is None:\n",
    "        break\n",
    "print(f\"Number of issues fetched: {len(issues)}\")"
   ]
  },
  {
   "cell_type": "markdown",
   "id": "1565fec9",
   "metadata": {},
   "source": [
    "# Creating a data frame with required data"
   ]
  },
  {
   "cell_type": "code",
   "execution_count": 232,
   "id": "9c4cb2e5",
   "metadata": {
    "scrolled": true
   },
   "outputs": [
    {
     "data": {
      "text/html": [
       "<div>\n",
       "<style scoped>\n",
       "    .dataframe tbody tr th:only-of-type {\n",
       "        vertical-align: middle;\n",
       "    }\n",
       "\n",
       "    .dataframe tbody tr th {\n",
       "        vertical-align: top;\n",
       "    }\n",
       "\n",
       "    .dataframe thead th {\n",
       "        text-align: right;\n",
       "    }\n",
       "</style>\n",
       "<table border=\"1\" class=\"dataframe\">\n",
       "  <thead>\n",
       "    <tr style=\"text-align: right;\">\n",
       "      <th></th>\n",
       "      <th>Title</th>\n",
       "      <th>Description</th>\n",
       "      <th>Labels</th>\n",
       "      <th>Poster</th>\n",
       "      <th>Date</th>\n",
       "    </tr>\n",
       "  </thead>\n",
       "  <tbody>\n",
       "    <tr>\n",
       "      <th>0</th>\n",
       "      <td>Default docker setup is not resilient to host ...</td>\n",
       "      <td>### Steps to reproduce\\r\\n1. Generate new rail...</td>\n",
       "      <td>[]</td>\n",
       "      <td>K4sku</td>\n",
       "      <td>2024-02-21T15:33:23Z</td>\n",
       "    </tr>\n",
       "    <tr>\n",
       "      <th>1</th>\n",
       "      <td>find_or_create_by! behavior raises RecordNotFo...</td>\n",
       "      <td>### Steps to reproduce\\r\\n&lt;!-- (Guidelines for...</td>\n",
       "      <td>[]</td>\n",
       "      <td>tubaxenor</td>\n",
       "      <td>2024-02-21T02:02:22Z</td>\n",
       "    </tr>\n",
       "    <tr>\n",
       "      <th>2</th>\n",
       "      <td>url_for helper incorrectly combines query para...</td>\n",
       "      <td>### Steps to reproduce\\r\\n\\r\\nDefine a route w...</td>\n",
       "      <td>[]</td>\n",
       "      <td>DanielHeath</td>\n",
       "      <td>2024-02-20T22:24:40Z</td>\n",
       "    </tr>\n",
       "    <tr>\n",
       "      <th>3</th>\n",
       "      <td>Setter sometimes doesn't update the changes, a...</td>\n",
       "      <td>### Steps to reproduce\\r\\n\\r\\nHere is an issue...</td>\n",
       "      <td>[]</td>\n",
       "      <td>GeoffreyOnRails</td>\n",
       "      <td>2024-02-20T18:56:52Z</td>\n",
       "    </tr>\n",
       "    <tr>\n",
       "      <th>4</th>\n",
       "      <td>Array primary keys (e.g. composite) break `col...</td>\n",
       "      <td>### Steps to reproduce\\r\\n\\r\\n```ruby\\r\\n# fro...</td>\n",
       "      <td>[activerecord]</td>\n",
       "      <td>Slotos</td>\n",
       "      <td>2024-02-19T18:36:55Z</td>\n",
       "    </tr>\n",
       "  </tbody>\n",
       "</table>\n",
       "</div>"
      ],
      "text/plain": [
       "                                               Title  \\\n",
       "0  Default docker setup is not resilient to host ...   \n",
       "1  find_or_create_by! behavior raises RecordNotFo...   \n",
       "2  url_for helper incorrectly combines query para...   \n",
       "3  Setter sometimes doesn't update the changes, a...   \n",
       "4  Array primary keys (e.g. composite) break `col...   \n",
       "\n",
       "                                         Description          Labels  \\\n",
       "0  ### Steps to reproduce\\r\\n1. Generate new rail...              []   \n",
       "1  ### Steps to reproduce\\r\\n<!-- (Guidelines for...              []   \n",
       "2  ### Steps to reproduce\\r\\n\\r\\nDefine a route w...              []   \n",
       "3  ### Steps to reproduce\\r\\n\\r\\nHere is an issue...              []   \n",
       "4  ### Steps to reproduce\\r\\n\\r\\n```ruby\\r\\n# fro...  [activerecord]   \n",
       "\n",
       "            Poster                  Date  \n",
       "0            K4sku  2024-02-21T15:33:23Z  \n",
       "1        tubaxenor  2024-02-21T02:02:22Z  \n",
       "2      DanielHeath  2024-02-20T22:24:40Z  \n",
       "3  GeoffreyOnRails  2024-02-20T18:56:52Z  \n",
       "4           Slotos  2024-02-19T18:36:55Z  "
      ]
     },
     "execution_count": 232,
     "metadata": {},
     "output_type": "execute_result"
    }
   ],
   "source": [
    "data = []\n",
    "for issue in issues:\n",
    "    title = issue['title']\n",
    "    description = issue['body']\n",
    "    labels = [label['name'] for label in issue['labels']]\n",
    "    poster = issue['user']['login']\n",
    "    date = issue[\"created_at\"]\n",
    "    data.append({\"Title\": title, \"Description\": description, \"Labels\": labels, \"Poster\": poster, \"Date\": date})\n",
    "df = pd.DataFrame(data)\n",
    "df.head()"
   ]
  },
  {
   "cell_type": "markdown",
   "id": "310ce653",
   "metadata": {},
   "source": [
    "# Number of issue posts per month"
   ]
  },
  {
   "cell_type": "code",
   "execution_count": 233,
   "id": "def75227",
   "metadata": {
    "scrolled": false
   },
   "outputs": [
    {
     "data": {
      "image/png": "[encoded data removed]",
      "text/plain": [
       "<Figure size 700x500 with 1 Axes>"
      ]
     },
     "metadata": {},
     "output_type": "display_data"
    }
   ],
   "source": [
    "df['Date'] = pd.to_datetime(df['Date'])\n",
    "df['Month_Year'] = df['Date'].dt.strftime('%y/%m')\n",
    "\n",
    "posts_per_month = df.groupby('Month_Year').size()\n",
    "plt.figure(figsize=(7, 5))\n",
    "posts_per_month.plot(kind='line', marker='o')\n",
    "plt.title('Distribution of Posts per Month')\n",
    "plt.xlabel('Month_Year')\n",
    "plt.ylabel('Number of Posts')\n",
    "plt.grid(axis='y', linestyle='--', alpha=0.7)\n",
    "plt.tight_layout()\n",
    "plt.show()"
   ]
  },
  {
   "cell_type": "markdown",
   "id": "a8bdc96e",
   "metadata": {},
   "source": [
    "# Number of issue posts per Weekday"
   ]
  },
  {
   "cell_type": "code",
   "execution_count": 234,
   "id": "0eca95a6",
   "metadata": {},
   "outputs": [
    {
     "data": {
      "image/png": "[encoded data removed]",
      "text/plain": [
       "<Figure size 700x500 with 1 Axes>"
      ]
     },
     "metadata": {},
     "output_type": "display_data"
    }
   ],
   "source": [
    "df['Date'] = pd.to_datetime(df['Date'])\n",
    "df['Weekday'] = df['Date'].dt.day_name()\n",
    "issues_per_weekday = df.groupby('Weekday').size()\n",
    "\n",
    "issues_per_weekday.plot(kind='bar', color='skyblue', figsize=(7, 5))\n",
    "plt.title('Number of Issues Created per Weekday')\n",
    "plt.xlabel('Weekday')\n",
    "plt.ylabel('Number of Issues')\n",
    "plt.grid(axis='y', linestyle='--', alpha=0.7)\n",
    "plt.tight_layout()\n",
    "plt.show()"
   ]
  },
  {
   "cell_type": "markdown",
   "id": "57d8647a",
   "metadata": {},
   "source": [
    "# Top 10 Posters"
   ]
  },
  {
   "cell_type": "code",
   "execution_count": 236,
   "id": "822a32ef",
   "metadata": {},
   "outputs": [
    {
     "data": {
      "image/png": "[encoded data removed]",
      "text/plain": [
       "<Figure size 700x500 with 1 Axes>"
      ]
     },
     "metadata": {},
     "output_type": "display_data"
    }
   ],
   "source": [
    "top_posters = df['Poster'].value_counts().head(10)\n",
    "\n",
    "plt.figure(figsize=(7, 5))\n",
    "top_posters.plot(kind='bar', color='skyblue')\n",
    "plt.title('Top 10 Posters and Number of Issues Posted')\n",
    "plt.xlabel('Poster')\n",
    "plt.ylabel('Number of Issues Posted')\n",
    "plt.xticks(rotation=45)\n",
    "plt.grid(axis='y', linestyle='--', alpha=0.7)\n",
    "plt.tight_layout()\n",
    "plt.show()"
   ]
  },
  {
   "cell_type": "markdown",
   "id": "135c4118",
   "metadata": {},
   "source": [
    "# Top 10 Labels "
   ]
  },
  {
   "cell_type": "code",
   "execution_count": 237,
   "id": "5ec977ef",
   "metadata": {},
   "outputs": [
    {
     "data": {
      "image/png": "[encoded data removed]",
      "text/plain": [
       "<Figure size 900x600 with 1 Axes>"
      ]
     },
     "metadata": {},
     "output_type": "display_data"
    },
    {
     "name": "stdout",
     "output_type": "stream",
     "text": [
      "Labels\n",
      "activerecord               143\n",
      "With reproduction steps     79\n",
      "attached PR                 78\n",
      "railties                    31\n",
      "actionpack                  23\n",
      "activesupport               23\n",
      "docs                        17\n",
      "activestorage               17\n",
      "actionview                  16\n",
      "third party issue           16\n",
      "Name: count, dtype: int64\n"
     ]
    }
   ],
   "source": [
    "top_labels = df['Labels'].explode().value_counts().head(10)\n",
    "\n",
    "plt.figure(figsize=(9, 6))\n",
    "top_labels.plot(kind='bar', color='skyblue')\n",
    "plt.title('Top 10 Used Labels')\n",
    "plt.xlabel('Label')\n",
    "plt.ylabel('Number of Occurrences')\n",
    "plt.xticks(rotation=45)\n",
    "plt.grid(axis='y', linestyle='--', alpha=0.7)\n",
    "plt.tight_layout()\n",
    "plt.show()\n",
    "print(top_labels)"
   ]
  },
  {
   "cell_type": "markdown",
   "id": "0b662bee",
   "metadata": {},
   "source": [
    "# ML Classifier"
   ]
  },
  {
   "cell_type": "code",
   "execution_count": 200,
   "id": "e6847b99",
   "metadata": {},
   "outputs": [],
   "source": [
    "import pandas as pd\n",
    "import numpy as np\n",
    "from sklearn.feature_extraction.text import TfidfVectorizer\n",
    "from sklearn.preprocessing import MultiLabelBinarizer\n",
    "from sklearn.model_selection import train_test_split\n",
    "\n",
    "from sklearn.linear_model import SGDClassifier\n",
    "from sklearn.linear_model import LogisticRegression\n",
    "from sklearn.svm import LinearSVC\n",
    "from sklearn.multiclass import OneVsRestClassifier\n",
    "from sklearn.metrics import jaccard_score, hamming_loss"
   ]
  },
  {
   "cell_type": "code",
   "execution_count": 201,
   "id": "8f4744fb",
   "metadata": {},
   "outputs": [
    {
     "data": {
      "text/html": [
       "<div>\n",
       "<style scoped>\n",
       "    .dataframe tbody tr th:only-of-type {\n",
       "        vertical-align: middle;\n",
       "    }\n",
       "\n",
       "    .dataframe tbody tr th {\n",
       "        vertical-align: top;\n",
       "    }\n",
       "\n",
       "    .dataframe thead th {\n",
       "        text-align: right;\n",
       "    }\n",
       "</style>\n",
       "<table border=\"1\" class=\"dataframe\">\n",
       "  <thead>\n",
       "    <tr style=\"text-align: right;\">\n",
       "      <th></th>\n",
       "      <th>Title</th>\n",
       "      <th>Description</th>\n",
       "      <th>Labels</th>\n",
       "    </tr>\n",
       "  </thead>\n",
       "  <tbody>\n",
       "    <tr>\n",
       "      <th>0</th>\n",
       "      <td>Default docker setup is not resilient to host ...</td>\n",
       "      <td>### Steps to reproduce\\r\\n1. Generate new rail...</td>\n",
       "      <td>[]</td>\n",
       "    </tr>\n",
       "    <tr>\n",
       "      <th>1</th>\n",
       "      <td>find_or_create_by! behavior raises RecordNotFo...</td>\n",
       "      <td>### Steps to reproduce\\r\\n&lt;!-- (Guidelines for...</td>\n",
       "      <td>[]</td>\n",
       "    </tr>\n",
       "    <tr>\n",
       "      <th>2</th>\n",
       "      <td>url_for helper incorrectly combines query para...</td>\n",
       "      <td>### Steps to reproduce\\r\\n\\r\\nDefine a route w...</td>\n",
       "      <td>[]</td>\n",
       "    </tr>\n",
       "    <tr>\n",
       "      <th>3</th>\n",
       "      <td>Setter sometimes doesn't update the changes, a...</td>\n",
       "      <td>### Steps to reproduce\\r\\n\\r\\nHere is an issue...</td>\n",
       "      <td>[]</td>\n",
       "    </tr>\n",
       "    <tr>\n",
       "      <th>4</th>\n",
       "      <td>Array primary keys (e.g. composite) break `col...</td>\n",
       "      <td>### Steps to reproduce\\r\\n\\r\\n```ruby\\r\\n# fro...</td>\n",
       "      <td>[activerecord]</td>\n",
       "    </tr>\n",
       "  </tbody>\n",
       "</table>\n",
       "</div>"
      ],
      "text/plain": [
       "                                               Title  \\\n",
       "0  Default docker setup is not resilient to host ...   \n",
       "1  find_or_create_by! behavior raises RecordNotFo...   \n",
       "2  url_for helper incorrectly combines query para...   \n",
       "3  Setter sometimes doesn't update the changes, a...   \n",
       "4  Array primary keys (e.g. composite) break `col...   \n",
       "\n",
       "                                         Description          Labels  \n",
       "0  ### Steps to reproduce\\r\\n1. Generate new rail...              []  \n",
       "1  ### Steps to reproduce\\r\\n<!-- (Guidelines for...              []  \n",
       "2  ### Steps to reproduce\\r\\n\\r\\nDefine a route w...              []  \n",
       "3  ### Steps to reproduce\\r\\n\\r\\nHere is an issue...              []  \n",
       "4  ### Steps to reproduce\\r\\n\\r\\n```ruby\\r\\n# fro...  [activerecord]  "
      ]
     },
     "execution_count": 201,
     "metadata": {},
     "output_type": "execute_result"
    }
   ],
   "source": [
    "df = df[['Title', 'Description', 'Labels']]\n",
    "df.head()"
   ]
  },
  {
   "cell_type": "markdown",
   "id": "21465c0c",
   "metadata": {},
   "source": [
    "### Combining Title and description to 1 coulmn"
   ]
  },
  {
   "cell_type": "code",
   "execution_count": 202,
   "id": "a78261f6",
   "metadata": {},
   "outputs": [
    {
     "data": {
      "text/html": [
       "<div>\n",
       "<style scoped>\n",
       "    .dataframe tbody tr th:only-of-type {\n",
       "        vertical-align: middle;\n",
       "    }\n",
       "\n",
       "    .dataframe tbody tr th {\n",
       "        vertical-align: top;\n",
       "    }\n",
       "\n",
       "    .dataframe thead th {\n",
       "        text-align: right;\n",
       "    }\n",
       "</style>\n",
       "<table border=\"1\" class=\"dataframe\">\n",
       "  <thead>\n",
       "    <tr style=\"text-align: right;\">\n",
       "      <th></th>\n",
       "      <th>Title_Description</th>\n",
       "      <th>Labels</th>\n",
       "    </tr>\n",
       "  </thead>\n",
       "  <tbody>\n",
       "    <tr>\n",
       "      <th>0</th>\n",
       "      <td>Default docker setup is not resilient to host ...</td>\n",
       "      <td>[]</td>\n",
       "    </tr>\n",
       "    <tr>\n",
       "      <th>1</th>\n",
       "      <td>find_or_create_by! behavior raises RecordNotFo...</td>\n",
       "      <td>[]</td>\n",
       "    </tr>\n",
       "    <tr>\n",
       "      <th>2</th>\n",
       "      <td>url_for helper incorrectly combines query para...</td>\n",
       "      <td>[]</td>\n",
       "    </tr>\n",
       "    <tr>\n",
       "      <th>3</th>\n",
       "      <td>Setter sometimes doesn't update the changes, a...</td>\n",
       "      <td>[]</td>\n",
       "    </tr>\n",
       "    <tr>\n",
       "      <th>4</th>\n",
       "      <td>Array primary keys (e.g. composite) break `col...</td>\n",
       "      <td>[activerecord]</td>\n",
       "    </tr>\n",
       "  </tbody>\n",
       "</table>\n",
       "</div>"
      ],
      "text/plain": [
       "                                   Title_Description          Labels\n",
       "0  Default docker setup is not resilient to host ...              []\n",
       "1  find_or_create_by! behavior raises RecordNotFo...              []\n",
       "2  url_for helper incorrectly combines query para...              []\n",
       "3  Setter sometimes doesn't update the changes, a...              []\n",
       "4  Array primary keys (e.g. composite) break `col...  [activerecord]"
      ]
     },
     "execution_count": 202,
     "metadata": {},
     "output_type": "execute_result"
    }
   ],
   "source": [
    "filtered_df = pd.DataFrame({\n",
    "    'Title_Description': df['Title'] + ';' + df['Description'],\n",
    "    'Labels': df['Labels']\n",
    "})\n",
    "filtered_df.head()"
   ]
  },
  {
   "cell_type": "markdown",
   "id": "86d467db",
   "metadata": {},
   "source": [
    "### Removing issues with no labels"
   ]
  },
  {
   "cell_type": "code",
   "execution_count": 203,
   "id": "2b8ea935",
   "metadata": {},
   "outputs": [
    {
     "data": {
      "text/html": [
       "<div>\n",
       "<style scoped>\n",
       "    .dataframe tbody tr th:only-of-type {\n",
       "        vertical-align: middle;\n",
       "    }\n",
       "\n",
       "    .dataframe tbody tr th {\n",
       "        vertical-align: top;\n",
       "    }\n",
       "\n",
       "    .dataframe thead th {\n",
       "        text-align: right;\n",
       "    }\n",
       "</style>\n",
       "<table border=\"1\" class=\"dataframe\">\n",
       "  <thead>\n",
       "    <tr style=\"text-align: right;\">\n",
       "      <th></th>\n",
       "      <th>Title_Description</th>\n",
       "      <th>Labels</th>\n",
       "    </tr>\n",
       "  </thead>\n",
       "  <tbody>\n",
       "    <tr>\n",
       "      <th>0</th>\n",
       "      <td>Array primary keys (e.g. composite) break `col...</td>\n",
       "      <td>[activerecord]</td>\n",
       "    </tr>\n",
       "    <tr>\n",
       "      <th>1</th>\n",
       "      <td>Rails 7.1: `ActiveRecord::Base#query_constrain...</td>\n",
       "      <td>[activerecord, activestorage]</td>\n",
       "    </tr>\n",
       "    <tr>\n",
       "      <th>2</th>\n",
       "      <td>ActionView::Template::Error (undefined method ...</td>\n",
       "      <td>[activestorage, more-information-needed]</td>\n",
       "    </tr>\n",
       "    <tr>\n",
       "      <th>3</th>\n",
       "      <td>ActionDispatch `recognize_path` trips over dom...</td>\n",
       "      <td>[actionpack]</td>\n",
       "    </tr>\n",
       "    <tr>\n",
       "      <th>4</th>\n",
       "      <td>Rails 7.1.* Deserializes Date Range with Infin...</td>\n",
       "      <td>[activerecord, With reproduction steps]</td>\n",
       "    </tr>\n",
       "  </tbody>\n",
       "</table>\n",
       "</div>"
      ],
      "text/plain": [
       "                                   Title_Description  \\\n",
       "0  Array primary keys (e.g. composite) break `col...   \n",
       "1  Rails 7.1: `ActiveRecord::Base#query_constrain...   \n",
       "2  ActionView::Template::Error (undefined method ...   \n",
       "3  ActionDispatch `recognize_path` trips over dom...   \n",
       "4  Rails 7.1.* Deserializes Date Range with Infin...   \n",
       "\n",
       "                                     Labels  \n",
       "0                            [activerecord]  \n",
       "1             [activerecord, activestorage]  \n",
       "2  [activestorage, more-information-needed]  \n",
       "3                              [actionpack]  \n",
       "4   [activerecord, With reproduction steps]  "
      ]
     },
     "execution_count": 203,
     "metadata": {},
     "output_type": "execute_result"
    }
   ],
   "source": [
    "filtered_df = filtered_df[filtered_df['Labels'].apply(lambda x: len(x) > 0)].reset_index(drop=True)\n",
    "filtered_df.head()"
   ]
  },
  {
   "cell_type": "code",
   "execution_count": 204,
   "id": "5cd17d7a",
   "metadata": {},
   "outputs": [
    {
     "data": {
      "text/plain": [
       "list"
      ]
     },
     "execution_count": 204,
     "metadata": {},
     "output_type": "execute_result"
    }
   ],
   "source": [
    "type(filtered_df['Labels'].iloc[0])"
   ]
  },
  {
   "cell_type": "markdown",
   "id": "7824ff7e",
   "metadata": {},
   "source": [
    "### One-Hot Encoding"
   ]
  },
  {
   "cell_type": "code",
   "execution_count": 205,
   "id": "2844a995",
   "metadata": {},
   "outputs": [],
   "source": [
    "multilabel = MultiLabelBinarizer()\n",
    "y=multilabel.fit_transform(filtered_df['Labels'])"
   ]
  },
  {
   "cell_type": "code",
   "execution_count": 206,
   "id": "d87a65a1",
   "metadata": {},
   "outputs": [
    {
     "data": {
      "text/html": [
       "<div>\n",
       "<style scoped>\n",
       "    .dataframe tbody tr th:only-of-type {\n",
       "        vertical-align: middle;\n",
       "    }\n",
       "\n",
       "    .dataframe tbody tr th {\n",
       "        vertical-align: top;\n",
       "    }\n",
       "\n",
       "    .dataframe thead th {\n",
       "        text-align: right;\n",
       "    }\n",
       "</style>\n",
       "<table border=\"1\" class=\"dataframe\">\n",
       "  <thead>\n",
       "    <tr style=\"text-align: right;\">\n",
       "      <th></th>\n",
       "      <th>MySQL</th>\n",
       "      <th>PostgreSQL</th>\n",
       "      <th>With reproduction steps</th>\n",
       "      <th>actioncable</th>\n",
       "      <th>actionmailbox</th>\n",
       "      <th>actionmailer</th>\n",
       "      <th>actionpack</th>\n",
       "      <th>actiontext</th>\n",
       "      <th>actionview</th>\n",
       "      <th>activejob</th>\n",
       "      <th>activemodel</th>\n",
       "      <th>activerecord</th>\n",
       "      <th>activestorage</th>\n",
       "      <th>activesupport</th>\n",
       "      <th>asset pipeline</th>\n",
       "      <th>attached PR</th>\n",
       "      <th>ci issues</th>\n",
       "      <th>docs</th>\n",
       "      <th>encryption</th>\n",
       "      <th>engines</th>\n",
       "      <th>good first issue</th>\n",
       "      <th>i18n</th>\n",
       "      <th>more-information-needed</th>\n",
       "      <th>pinned</th>\n",
       "      <th>rails-ujs</th>\n",
       "      <th>railties</th>\n",
       "      <th>regression</th>\n",
       "      <th>routing</th>\n",
       "      <th>stale</th>\n",
       "      <th>third party issue</th>\n",
       "    </tr>\n",
       "  </thead>\n",
       "  <tbody>\n",
       "    <tr>\n",
       "      <th>0</th>\n",
       "      <td>0</td>\n",
       "      <td>0</td>\n",
       "      <td>0</td>\n",
       "      <td>0</td>\n",
       "      <td>0</td>\n",
       "      <td>0</td>\n",
       "      <td>0</td>\n",
       "      <td>0</td>\n",
       "      <td>0</td>\n",
       "      <td>0</td>\n",
       "      <td>0</td>\n",
       "      <td>1</td>\n",
       "      <td>0</td>\n",
       "      <td>0</td>\n",
       "      <td>0</td>\n",
       "      <td>0</td>\n",
       "      <td>0</td>\n",
       "      <td>0</td>\n",
       "      <td>0</td>\n",
       "      <td>0</td>\n",
       "      <td>0</td>\n",
       "      <td>0</td>\n",
       "      <td>0</td>\n",
       "      <td>0</td>\n",
       "      <td>0</td>\n",
       "      <td>0</td>\n",
       "      <td>0</td>\n",
       "      <td>0</td>\n",
       "      <td>0</td>\n",
       "      <td>0</td>\n",
       "    </tr>\n",
       "    <tr>\n",
       "      <th>1</th>\n",
       "      <td>0</td>\n",
       "      <td>0</td>\n",
       "      <td>0</td>\n",
       "      <td>0</td>\n",
       "      <td>0</td>\n",
       "      <td>0</td>\n",
       "      <td>0</td>\n",
       "      <td>0</td>\n",
       "      <td>0</td>\n",
       "      <td>0</td>\n",
       "      <td>0</td>\n",
       "      <td>1</td>\n",
       "      <td>1</td>\n",
       "      <td>0</td>\n",
       "      <td>0</td>\n",
       "      <td>0</td>\n",
       "      <td>0</td>\n",
       "      <td>0</td>\n",
       "      <td>0</td>\n",
       "      <td>0</td>\n",
       "      <td>0</td>\n",
       "      <td>0</td>\n",
       "      <td>0</td>\n",
       "      <td>0</td>\n",
       "      <td>0</td>\n",
       "      <td>0</td>\n",
       "      <td>0</td>\n",
       "      <td>0</td>\n",
       "      <td>0</td>\n",
       "      <td>0</td>\n",
       "    </tr>\n",
       "    <tr>\n",
       "      <th>2</th>\n",
       "      <td>0</td>\n",
       "      <td>0</td>\n",
       "      <td>0</td>\n",
       "      <td>0</td>\n",
       "      <td>0</td>\n",
       "      <td>0</td>\n",
       "      <td>0</td>\n",
       "      <td>0</td>\n",
       "      <td>0</td>\n",
       "      <td>0</td>\n",
       "      <td>0</td>\n",
       "      <td>0</td>\n",
       "      <td>1</td>\n",
       "      <td>0</td>\n",
       "      <td>0</td>\n",
       "      <td>0</td>\n",
       "      <td>0</td>\n",
       "      <td>0</td>\n",
       "      <td>0</td>\n",
       "      <td>0</td>\n",
       "      <td>0</td>\n",
       "      <td>0</td>\n",
       "      <td>1</td>\n",
       "      <td>0</td>\n",
       "      <td>0</td>\n",
       "      <td>0</td>\n",
       "      <td>0</td>\n",
       "      <td>0</td>\n",
       "      <td>0</td>\n",
       "      <td>0</td>\n",
       "    </tr>\n",
       "    <tr>\n",
       "      <th>3</th>\n",
       "      <td>0</td>\n",
       "      <td>0</td>\n",
       "      <td>0</td>\n",
       "      <td>0</td>\n",
       "      <td>0</td>\n",
       "      <td>0</td>\n",
       "      <td>1</td>\n",
       "      <td>0</td>\n",
       "      <td>0</td>\n",
       "      <td>0</td>\n",
       "      <td>0</td>\n",
       "      <td>0</td>\n",
       "      <td>0</td>\n",
       "      <td>0</td>\n",
       "      <td>0</td>\n",
       "      <td>0</td>\n",
       "      <td>0</td>\n",
       "      <td>0</td>\n",
       "      <td>0</td>\n",
       "      <td>0</td>\n",
       "      <td>0</td>\n",
       "      <td>0</td>\n",
       "      <td>0</td>\n",
       "      <td>0</td>\n",
       "      <td>0</td>\n",
       "      <td>0</td>\n",
       "      <td>0</td>\n",
       "      <td>0</td>\n",
       "      <td>0</td>\n",
       "      <td>0</td>\n",
       "    </tr>\n",
       "    <tr>\n",
       "      <th>4</th>\n",
       "      <td>0</td>\n",
       "      <td>0</td>\n",
       "      <td>1</td>\n",
       "      <td>0</td>\n",
       "      <td>0</td>\n",
       "      <td>0</td>\n",
       "      <td>0</td>\n",
       "      <td>0</td>\n",
       "      <td>0</td>\n",
       "      <td>0</td>\n",
       "      <td>0</td>\n",
       "      <td>1</td>\n",
       "      <td>0</td>\n",
       "      <td>0</td>\n",
       "      <td>0</td>\n",
       "      <td>0</td>\n",
       "      <td>0</td>\n",
       "      <td>0</td>\n",
       "      <td>0</td>\n",
       "      <td>0</td>\n",
       "      <td>0</td>\n",
       "      <td>0</td>\n",
       "      <td>0</td>\n",
       "      <td>0</td>\n",
       "      <td>0</td>\n",
       "      <td>0</td>\n",
       "      <td>0</td>\n",
       "      <td>0</td>\n",
       "      <td>0</td>\n",
       "      <td>0</td>\n",
       "    </tr>\n",
       "  </tbody>\n",
       "</table>\n",
       "</div>"
      ],
      "text/plain": [
       "   MySQL  PostgreSQL  With reproduction steps  actioncable  actionmailbox  \\\n",
       "0      0           0                        0            0              0   \n",
       "1      0           0                        0            0              0   \n",
       "2      0           0                        0            0              0   \n",
       "3      0           0                        0            0              0   \n",
       "4      0           0                        1            0              0   \n",
       "\n",
       "   actionmailer  actionpack  actiontext  actionview  activejob  activemodel  \\\n",
       "0             0           0           0           0          0            0   \n",
       "1             0           0           0           0          0            0   \n",
       "2             0           0           0           0          0            0   \n",
       "3             0           1           0           0          0            0   \n",
       "4             0           0           0           0          0            0   \n",
       "\n",
       "   activerecord  activestorage  activesupport  asset pipeline  attached PR  \\\n",
       "0             1              0              0               0            0   \n",
       "1             1              1              0               0            0   \n",
       "2             0              1              0               0            0   \n",
       "3             0              0              0               0            0   \n",
       "4             1              0              0               0            0   \n",
       "\n",
       "   ci issues  docs  encryption  engines  good first issue  i18n  \\\n",
       "0          0     0           0        0                 0     0   \n",
       "1          0     0           0        0                 0     0   \n",
       "2          0     0           0        0                 0     0   \n",
       "3          0     0           0        0                 0     0   \n",
       "4          0     0           0        0                 0     0   \n",
       "\n",
       "   more-information-needed  pinned  rails-ujs  railties  regression  routing  \\\n",
       "0                        0       0          0         0           0        0   \n",
       "1                        0       0          0         0           0        0   \n",
       "2                        1       0          0         0           0        0   \n",
       "3                        0       0          0         0           0        0   \n",
       "4                        0       0          0         0           0        0   \n",
       "\n",
       "   stale  third party issue  \n",
       "0      0                  0  \n",
       "1      0                  0  \n",
       "2      0                  0  \n",
       "3      0                  0  \n",
       "4      0                  0  "
      ]
     },
     "execution_count": 206,
     "metadata": {},
     "output_type": "execute_result"
    }
   ],
   "source": [
    "pd.set_option('display.max_columns', None) \n",
    "pd.DataFrame(y, columns=multilabel.classes_).head()"
   ]
  },
  {
   "cell_type": "markdown",
   "id": "a9623e7f",
   "metadata": {},
   "source": [
    "### TF-IDF"
   ]
  },
  {
   "cell_type": "code",
   "execution_count": 227,
   "id": "47431694",
   "metadata": {},
   "outputs": [],
   "source": [
    "tfidf = TfidfVectorizer(analyzer='word', max_features=5000)\n",
    "x = tfidf.fit_transform(filtered_df['Title_Description'])"
   ]
  },
  {
   "cell_type": "markdown",
   "id": "230d945a",
   "metadata": {},
   "source": [
    "### Data Splitting"
   ]
  },
  {
   "cell_type": "code",
   "execution_count": 208,
   "id": "9b08960b",
   "metadata": {},
   "outputs": [],
   "source": [
    "x_train, x_test, y_train, y_test = train_test_split(x, y, test_size=0.2, random_state=0)"
   ]
  },
  {
   "cell_type": "markdown",
   "id": "6724839e",
   "metadata": {},
   "source": [
    "### ML Models"
   ]
  },
  {
   "cell_type": "code",
   "execution_count": 209,
   "id": "29d7ec2c",
   "metadata": {},
   "outputs": [],
   "source": [
    "sgd = SGDClassifier()\n",
    "lr = LogisticRegression(dual = False, solver = 'lbfgs')\n",
    "svc = LinearSVC(dual = True)"
   ]
  },
  {
   "cell_type": "markdown",
   "id": "0857fb2d",
   "metadata": {},
   "source": [
    "### Evaluation Metrics"
   ]
  },
  {
   "cell_type": "code",
   "execution_count": 210,
   "id": "67b08706",
   "metadata": {},
   "outputs": [],
   "source": [
    "def print_score(y_pred, clf):\n",
    "    print(\"Clf: \", clf.__class__.__name__)\n",
    "    print('Jaccard score: {}'.format(jaccard_score(y_test, y_pred, average='samples')))\n",
    "    print('Hamming loss: {}'.format(hamming_loss(y_test, y_pred)))\n",
    "    print(\"---\")"
   ]
  },
  {
   "cell_type": "code",
   "execution_count": 229,
   "id": "eca5f6e1",
   "metadata": {
    "scrolled": false
   },
   "outputs": [
    {
     "name": "stdout",
     "output_type": "stream",
     "text": [
      "Clf:  SGDClassifier\n",
      "Jaccard score: 0.3722222222222222\n",
      "Hamming loss: 0.04611111111111111\n",
      "---\n",
      "Clf:  LogisticRegression\n",
      "Jaccard score: 0.24722222222222223\n",
      "Hamming loss: 0.04611111111111111\n",
      "---\n",
      "Clf:  LinearSVC\n",
      "Jaccard score: 0.2944444444444444\n",
      "Hamming loss: 0.044444444444444446\n",
      "---\n"
     ]
    }
   ],
   "source": [
    "for classifier in [sgd, lr, svc]:\n",
    "    clf = OneVsRestClassifier(classifier)\n",
    "    clf.fit(x_train, y_train)\n",
    "    y_pred = clf.predict(x_test)\n",
    "    print_score(y_pred, classifier)"
   ]
  },
  {
   "cell_type": "code",
   "execution_count": null,
   "id": "1a80c9a1",
   "metadata": {},
   "outputs": [],
   "source": []
  },
  {
   "cell_type": "code",
   "execution_count": null,
   "id": "40ca68fd",
   "metadata": {},
   "outputs": [],
   "source": []
  }
 ],
 "metadata": {
  "kernelspec": {
   "display_name": "Python 3 (ipykernel)",
   "language": "python",
   "name": "python3"
  },
  "language_info": {
   "codemirror_mode": {
    "name": "ipython",
    "version": 3
   },
   "file_extension": ".py",
   "mimetype": "text/x-python",
   "name": "python",
   "nbconvert_exporter": "python",
   "pygments_lexer": "ipython3",
   "version": "3.11.5"
  }
 },
 "nbformat": 4,
 "nbformat_minor": 5
}
